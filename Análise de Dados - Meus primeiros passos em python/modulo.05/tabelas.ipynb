{
 "cells": [
  {
   "cell_type": "markdown",
   "metadata": {},
   "source": [
    "insert_tabelagerencia.txt\n",
    "\n",
    "https://files.cdn.thinkific.com/file_uploads/584413/attachments/08f/454/13f/insert_tabelagerencia.txt"
   ]
  },
  {
   "cell_type": "markdown",
   "metadata": {},
   "source": [
    "insert_tabelamunicipios.txt\n",
    "\n",
    "https://files.cdn.thinkific.com/file_uploads/584413/attachments/1f3/96e/432/insert_tabelamunicipios.txt"
   ]
  },
  {
   "cell_type": "markdown",
   "metadata": {},
   "source": [
    "insert_tabelastatus.txt\n",
    "\n",
    "https://files.cdn.thinkific.com/file_uploads/584413/attachments/ddb/a31/948/insert_tabelastatus.txt"
   ]
  }
 ],
 "metadata": {
  "language_info": {
   "name": "python"
  }
 },
 "nbformat": 4,
 "nbformat_minor": 2
}
